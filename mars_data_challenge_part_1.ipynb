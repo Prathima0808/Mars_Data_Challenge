{
 "cells": [
  {
   "cell_type": "markdown",
   "metadata": {},
   "source": [
    "## Deliverable 1: Scrape Titles and Preview Text from Mars News "
   ]
  },
  {
   "cell_type": "code",
   "execution_count": 80,
   "metadata": {},
   "outputs": [],
   "source": [
    "from bs4 import BeautifulSoup\n",
    "#import pandas as pd\n",
    "from splinter import Browser\n",
    "import time\n",
    "from webdriver_manager.chrome import ChromeDriverManager\n"
   ]
  },
  {
   "cell_type": "code",
   "execution_count": 81,
   "metadata": {},
   "outputs": [],
   "source": [
    "# Executable path\n",
    "executable_path = {'executable_path': ChromeDriverManager().install()}\n",
    "browser = Browser('chrome', **executable_path, headless=False)"
   ]
  },
  {
   "cell_type": "code",
   "execution_count": 82,
   "metadata": {},
   "outputs": [
    {
     "data": {
      "text/plain": [
       "True"
      ]
     },
     "execution_count": 82,
     "metadata": {},
     "output_type": "execute_result"
    }
   ],
   "source": [
    "# Visit the mars nasa news site\n",
    "url = 'https://redplanetscience.com'\n",
    "browser.visit(url)\n",
    "\n",
    "#Optional delay for loading the page\n",
    "browser.is_element_present_by_css('div.list_text', wait_time=1)"
   ]
  },
  {
   "cell_type": "code",
   "execution_count": 83,
   "metadata": {},
   "outputs": [],
   "source": [
    "# HTML Parser\n",
    "html = browser.html\n",
    "news_soup = BeautifulSoup(html, 'html.parser')\n",
    "#slide_elem = news_soup.find_all('div.list_text')\n",
    "#news_list = news_soup.find_all('div',class_='list_text')\n",
    "slide_elem = news_soup.find_all('div',class_='list_text')"
   ]
  },
  {
   "cell_type": "code",
   "execution_count": 84,
   "metadata": {},
   "outputs": [],
   "source": [
    " # Make a empty list and insert the dictionary result\n",
    "news_result_list=[]\n",
    "for news in slide_elem:\n",
    "    news_title = news.find('div',class_='content_title').text\n",
    "    news_preview = news.find('div',class_='article_teaser_body').text\n",
    "    news_result_list.append({'title':news_title,'preview':news_preview})\n"
   ]
  },
  {
   "cell_type": "code",
   "execution_count": 85,
   "metadata": {},
   "outputs": [
    {
     "name": "stdout",
     "output_type": "stream",
     "text": [
      "[{'title': 'Mars 2020 Unwrapped and Ready for More Testing', 'preview': \"In time-lapse video, bunny-suited engineers remove the inner layer of protective foil on NASA's Mars 2020 rover after it was relocated for testing.\"}, {'title': 'NASA to Reveal Name of Its Next Mars Rover', 'preview': \"After a months-long contest among students to name NASA's newest Mars rover, the agency will reveal the winning name — and the winning student — this Thursday. \"}, {'title': \"Media Get a Close-Up of NASA's Mars 2020 Rover\", 'preview': \"The clean room at NASA's Jet Propulsion Laboratory was open to the media to see NASA's next Mars explorer before it leaves for Florida in preparation for a summertime launch.\"}, {'title': \"Celebrate Mars Reconnaissance Orbiter's Views From Above\", 'preview': 'Marking its 15th anniversary since launch, one of the oldest spacecraft at the Red Planet has provided glimpses of dust devils, avalanches, and more.'}, {'title': \"A Martian Roundtrip: NASA's Perseverance Rover Sample Tubes\", 'preview': \"Marvels of engineering, the rover's sample tubes must be tough enough to safely bring Red Planet samples on the long journey back to Earth in immaculate condition. \"}, {'title': \"NASA's Perseverance Rover Attached to Atlas V Rocket\", 'preview': 'Ready for its launch later in the month, the Mars-bound rover will touch terra firma no more.'}, {'title': \"NASA's Curiosity Keeps Rolling As Team Operates Rover From Home\", 'preview': 'The team has learned to meet new challenges as they work remotely on the Mars mission.'}, {'title': \"NASA's Mars Reconnaissance Orbiter Undergoes Memory Update\", 'preview': 'Other orbiters will continue relaying data from Mars surface missions for a two-week period.'}, {'title': \"NASA Wins 4 Webbys, 4 People's Voice Awards\", 'preview': 'Winners include the JPL-managed \"Send Your Name to Mars\" campaign, NASA\\'s Global Climate Change website and Solar System Interactive.'}, {'title': 'NASA, ULA Launch Mars 2020 Perseverance Rover Mission to Red Planet', 'preview': \"The agency's Mars 2020 mission is on its way. It will land at Jezero Crater in about seven months, on Feb. 18, 2021. \"}, {'title': 'NASA to Broadcast Mars 2020 Perseverance Launch, Prelaunch Activities', 'preview': 'Starting July 27, news activities will cover everything from mission engineering and science to returning samples from Mars to, of course, the launch itself.'}, {'title': 'NASA Wins Two Emmy Awards for Interactive Mission Coverage', 'preview': \"NASA-JPL's coverage of the Mars InSight landing earns one of the two wins, making this the NASA center's second Emmy.\"}, {'title': \"Nine Finalists Chosen in NASA's Mars 2020 Rover Naming Contest\", 'preview': \"Nine finalists have been chosen in the essay contest for K-12 students across U.S. to name NASA's next Mars rover. Now you can help by voting for your favorite. \"}, {'title': \"NASA's Ingenuity Mars Helicopter Recharges Its Batteries in Flight\", 'preview': 'Headed to the Red Planet with the Perseverance rover, the pioneering helicopter is powered up for the first time in interplanetary space as part of a systems check.'}, {'title': \"NASA's Perseverance Rover Goes Through Trials by Fire, Ice, Light and Sound\", 'preview': \"The agency's new Mars rover is put through a series of tests in vacuum chambers, acoustic chambers and more to get ready for the Red Planet.\"}]\n"
     ]
    }
   ],
   "source": [
    "print(news_result_list)"
   ]
  }
 ],
 "metadata": {
  "kernelspec": {
   "display_name": "Python 3.10.8 64-bit (microsoft store)",
   "language": "python",
   "name": "python3"
  },
  "language_info": {
   "codemirror_mode": {
    "name": "ipython",
    "version": 3
   },
   "file_extension": ".py",
   "mimetype": "text/x-python",
   "name": "python",
   "nbconvert_exporter": "python",
   "pygments_lexer": "ipython3",
   "version": "3.10.8"
  },
  "orig_nbformat": 4,
  "vscode": {
   "interpreter": {
    "hash": "9e8ab2391838c1e655b3dc5fc6497fa03d3214be5c42733d4056c6895fbffd74"
   }
  }
 },
 "nbformat": 4,
 "nbformat_minor": 2
}
